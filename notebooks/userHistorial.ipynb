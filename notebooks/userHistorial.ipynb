{
 "cells": [
  {
   "cell_type": "code",
   "execution_count": 32,
   "metadata": {
    "collapsed": true
   },
   "outputs": [],
   "source": [
    "import pandas as pd\n",
    "import json\n",
    "\n",
    "import sys\n",
    "sys.path.append('../python')\n",
    "import timeLimitEvents as timeLimits"
   ]
  },
  {
   "cell_type": "code",
   "execution_count": null,
   "outputs": [],
   "source": [
    "dataEvents = pd.read_csv('E:/Documentos/PCEO/5/Informatica/TFG/datos/anonamyze_all_data_collection_v2.csv', sep=\";\")\n",
    "\n",
    "dataEvents['time'] = pd.to_datetime(dataEvents['time'])\n",
    "dataEvents['user'] = [json.loads(x)['user'] if 'user' in json.loads(x).keys() else '' for x in dataEvents['data']]\n",
    "dataEvents = dataEvents.sort_values('time')"
   ],
   "metadata": {
    "collapsed": false,
    "pycharm": {
     "is_executing": true
    }
   }
  },
  {
   "cell_type": "code",
   "execution_count": null,
   "outputs": [],
   "source": [
    "typeMapping = ['Sandbox~SAND', '1. One Box~Tutorial', '2. Separated Boxes~Tutorial', '3. Rotate a Pyramid~Tutorial', '4. Match Silhouettes~Tutorial', '5. Removing Objects~Tutorial', '6. Stretch a Ramp~Tutorial', '7. Max 2 Boxes~Tutorial', '8. Combine 2 Ramps~Tutorial', '9. Scaling Round Objects~Tutorial',\n",
    "               'Square Cross-Sections~Easy Puzzles', 'Bird Fez~Easy Puzzles', 'Pi Henge~Easy Puzzles', '45-Degree Rotations~Easy Puzzles',  'Pyramids are Strange~Easy Puzzles', 'Boxes Obscure Spheres~Easy Puzzles', 'Object Limits~Easy Puzzles', 'Not Bird~Easy Puzzles', 'Angled Silhouette~Easy Puzzles',\n",
    "               'Warm Up~Hard Puzzles','Tetromino~Hard Puzzles', 'Stranger Shapes~Hard Puzzles', 'Sugar Cones~Hard Puzzles', 'Tall and Small~Hard Puzzles', 'Ramp Up and Can It~Hard Puzzles', 'More Than Meets Your Eye~Hard Puzzles', 'Unnecessary~Hard Puzzles', 'Zzz~Hard Puzzles', 'Bull Market~Hard Puzzles', 'Few Clues~Hard Puzzles', 'Orange Dance~Hard Puzzles', 'Bear Market~Hard Puzzles']\n",
    "\n",
    "tutorialPuzzles = []\n",
    "\n",
    "for puzzle in typeMapping:\n",
    "    desc = puzzle.split(\"~\")\n",
    "    if(desc[1] == 'Tutorial'):\n",
    "        tutorialPuzzles.append(desc[0])\n",
    "\n",
    "\n",
    "intermediatePuzzles = []\n",
    "\n",
    "for puzzle in typeMapping:\n",
    "    desc = puzzle.split(\"~\")\n",
    "    if(desc[1] == 'Easy Puzzles'):\n",
    "        intermediatePuzzles.append(desc[0])\n",
    "\n",
    "advancedPuzzles = []\n",
    "\n",
    "for puzzle in typeMapping:\n",
    "    desc = puzzle.split(\"~\")\n",
    "    if(desc[1] == 'Hard Puzzles'):\n",
    "        advancedPuzzles.append(desc[0])"
   ],
   "metadata": {
    "collapsed": false
   }
  },
  {
   "cell_type": "code",
   "execution_count": 34,
   "outputs": [],
   "source": [
    "def computeUserHistorial(dataEvents, user):\n",
    "\n",
    "    completed = dict()\n",
    "    tutorialCompleted = dict()\n",
    "    intermediateCompleted = dict()\n",
    "    advancedCompleted = dict()\n",
    "    userAttempts = dict()\n",
    "    userWins = dict()\n",
    "\n",
    "    tutorialCompleted[user] = 0\n",
    "    intermediateCompleted[user] = 0\n",
    "    advancedCompleted[user] = 0\n",
    "    userAttempts[user] = 0\n",
    "    userWins[user] = 0\n",
    "\n",
    "    puzzle_key = None\n",
    "\n",
    "    for enum, event in dataEvents.iterrows():\n",
    "\n",
    "        if event['user'] == user:\n",
    "\n",
    "            if(event['type'] in ['ws-start_level', 'ws-puzzle_started']):\n",
    "\n",
    "                puzzle_key =  json.loads(event['data'])['task_id']\n",
    "                if(puzzle_key not in completed.keys()): completed[puzzle_key] = 0\n",
    "\n",
    "            if(event['type'] == 'ws-puzzle_started' and completed[puzzle_key] == 0):\n",
    "\n",
    "                userAttempts[user] +=1\n",
    "\n",
    "            elif(event['type'] == 'ws-puzzle_complete' and completed[puzzle_key] == 0):\n",
    "\n",
    "                userWins[user] += 1\n",
    "\n",
    "                if (puzzle_key in tutorialPuzzles):\n",
    "                    tutorialCompleted[user] += 1\n",
    "\n",
    "                elif (puzzle_key in intermediatePuzzles):\n",
    "                    intermediateCompleted[user] += 1\n",
    "\n",
    "                elif (puzzle_key in advancedPuzzles):\n",
    "                    advancedCompleted[user] += 1\n",
    "\n",
    "                completed[puzzle_key] = 1\n",
    "\n",
    "    resultado = dict()\n",
    "\n",
    "    if userAttempts[user] == 0 or userWins[user] == 0:\n",
    "        attempts_per_puzzle = 0\n",
    "    else: attempts_per_puzzle = round((userAttempts[user]/userWins[user]),2)\n",
    "\n",
    "    resultado['percentage_tutorial'] = round((tutorialCompleted[user]/9)*100,2)\n",
    "    resultado['percentage_intermediate'] = round((intermediateCompleted[user]/9)*100,2)\n",
    "    resultado['percentage_advanced'] = round((advancedCompleted[user]/13)*100,2)\n",
    "    resultado['attempts_per_puzzle'] = attempts_per_puzzle\n",
    "\n",
    "    return resultado"
   ],
   "metadata": {
    "collapsed": false
   }
  },
  {
   "cell_type": "code",
   "execution_count": 35,
   "outputs": [],
   "source": [
    "dataEvents1 = timeLimits.computeTimeLimitEvents(dataEvents,user_objective=['56ccce25ead834182d605eff319bfa2c'], timeLimit=pd.to_datetime('2019-09-09 13:58:55.405365-04:00',utc=True))\n",
    "dataEvents2 = timeLimits.computeTimeLimitEvents(dataEvents,user_objective=['56ccce25ead834182d605eff319bfa2c'], timeLimit= pd.to_datetime('2019-09-10 13:53:22.263676-04:00',utc=True))\n",
    "\n",
    "userHistorial1 = computeUserHistorial(dataEvents1, user = '56ccce25ead834182d605eff319bfa2c' )\n",
    "userHistorial2 = computeUserHistorial(dataEvents2, user = '56ccce25ead834182d605eff319bfa2c')"
   ],
   "metadata": {
    "collapsed": false
   }
  },
  {
   "cell_type": "code",
   "execution_count": 36,
   "outputs": [
    {
     "name": "stdout",
     "output_type": "stream",
     "text": [
      "{'percentage_tutorial': 44.44, 'percentage_intermediate': 0.0, 'percentage_advanced': 0.0, 'attempts_per_puzzle': 3.25}\n",
      "{'percentage_tutorial': 66.67, 'percentage_intermediate': 88.89, 'percentage_advanced': 23.08, 'attempts_per_puzzle': 1.68}\n"
     ]
    }
   ],
   "source": [
    "print(userHistorial1)\n",
    "print(userHistorial2)"
   ],
   "metadata": {
    "collapsed": false
   }
  }
 ],
 "metadata": {
  "kernelspec": {
   "display_name": "Python 3",
   "language": "python",
   "name": "python3"
  },
  "language_info": {
   "codemirror_mode": {
    "name": "ipython",
    "version": 2
   },
   "file_extension": ".py",
   "mimetype": "text/x-python",
   "name": "python",
   "nbconvert_exporter": "python",
   "pygments_lexer": "ipython2",
   "version": "2.7.6"
  }
 },
 "nbformat": 4,
 "nbformat_minor": 0
}
