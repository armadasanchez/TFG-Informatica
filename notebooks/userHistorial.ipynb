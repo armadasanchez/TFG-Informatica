{
 "cells": [
  {
   "cell_type": "code",
   "execution_count": 1,
   "outputs": [],
   "source": [
    "\n",
    "import pandas as pd\n",
    "import numpy as np\n",
    "from datetime import datetime\n",
    "import json\n",
    "\n"
   ],
   "metadata": {
    "collapsed": false
   }
  },
  {
   "cell_type": "code",
   "execution_count": 2,
   "outputs": [],
   "source": [
    "dataEvents = pd.read_csv('E:/Documentos/PCEO/5/Informatica/TFG/datos/anonamyze_all_data_collection_v2.csv', sep=\";\")"
   ],
   "metadata": {
    "collapsed": false
   }
  },
  {
   "cell_type": "code",
   "execution_count": 3,
   "outputs": [],
   "source": [
    "typeMapping = ['Sandbox~SAND', '1. One Box~Tutorial', '2. Separated Boxes~Tutorial', '3. Rotate a Pyramid~Tutorial', '4. Match Silhouettes~Tutorial', '5. Removing Objects~Tutorial', '6. Stretch a Ramp~Tutorial', '7. Max 2 Boxes~Tutorial', '8. Combine 2 Ramps~Tutorial', '9. Scaling Round Objects~Tutorial',\n",
    "               'Square Cross-Sections~Easy Puzzles', 'Bird Fez~Easy Puzzles', 'Pi Henge~Easy Puzzles', '45-Degree Rotations~Easy Puzzles',  'Pyramids are Strange~Easy Puzzles', 'Boxes Obscure Spheres~Easy Puzzles', 'Object Limits~Easy Puzzles', 'Not Bird~Easy Puzzles', 'Angled Silhouette~Easy Puzzles',\n",
    "               'Warm Up~Hard Puzzles','Tetromino~Hard Puzzles', 'Stranger Shapes~Hard Puzzles', 'Sugar Cones~Hard Puzzles', 'Tall and Small~Hard Puzzles', 'Ramp Up and Can It~Hard Puzzles', 'More Than Meets Your Eye~Hard Puzzles', 'Unnecessary~Hard Puzzles', 'Zzz~Hard Puzzles', 'Bull Market~Hard Puzzles', 'Few Clues~Hard Puzzles', 'Orange Dance~Hard Puzzles', 'Bear Market~Hard Puzzles']\n",
    "\n",
    "tutorialPuzzles = []\n",
    "\n",
    "for puzzle in typeMapping:\n",
    "    desc = puzzle.split(\"~\")\n",
    "    if(desc[1] == 'Tutorial'):\n",
    "        tutorialPuzzles.append(desc[0])\n",
    "\n",
    "advancedPuzzles = []\n",
    "\n",
    "for puzzle in typeMapping:\n",
    "    desc = puzzle.split(\"~\")\n",
    "    if(desc[1] == 'Hard Puzzles'):\n",
    "        advancedPuzzles.append(desc[0])\n",
    "\n",
    "\n",
    "intermediatePuzzles = []\n",
    "\n",
    "for puzzle in typeMapping:\n",
    "    desc = puzzle.split(\"~\")\n",
    "    if(desc[1] == 'Easy Puzzles'):\n",
    "        intermediatePuzzles.append(desc[0])\n",
    "\n",
    "allPuzzles = []\n",
    "for puzzle in typeMapping:\n",
    "    desc = puzzle.split(\"~\")\n",
    "    allPuzzles.append(desc[0])\n",
    "\n",
    "\n",
    "\n",
    "def computeUserHistorial(dataEvents, group = 'all' , user= 'all',timeLimit = pd.to_datetime('2022-09-10 13:40:17.975299-04:00',utc=True) ):\n",
    "\n",
    "\n",
    "\n",
    "    dataEvents['time'] = pd.to_datetime(dataEvents['time'],utc=True)\n",
    "    dataEvents = dataEvents.sort_values('time')\n",
    "    dataEvents['group'] = [json.loads(x)['group'] if 'group' in json.loads(x).keys() else '' for x in dataEvents['data']]\n",
    "    dataEvents['user'] = [json.loads(x)['user'] if 'user' in json.loads(x).keys() else '' for x in dataEvents['data']]\n",
    "\n",
    "    # removing those rows where we dont have a group and a user that is not guest\n",
    "    dataEvents = dataEvents[((dataEvents['group'] != '') & (dataEvents['user'] != '') & (dataEvents['user'] != 'guest'))]\n",
    "    dataEvents['group_user_id'] = dataEvents['group'] + '~' + dataEvents['user']\n",
    "\n",
    "    # filtering to only take the group passed as argument\n",
    "    if(group != 'all'):\n",
    "        dataEvents = dataEvents[dataEvents['group'].isin(group)]\n",
    "    # filtering to only take the user passed as argument\n",
    "    if(user != 'all'):\n",
    "        dataEvents = dataEvents[dataEvents['user'].isin(user)]\n",
    "    # filtering to only take the events before the timeLimit\n",
    "    dataEvents = dataEvents.loc[dataEvents['time'] < timeLimit]\n",
    "\n",
    "\n",
    "    completed = dict()\n",
    "    tutorialCompleted = dict()\n",
    "    intermediateCompleted = dict()\n",
    "    advancedCompleted = dict()\n",
    "    users = []\n",
    "    userAttempts = dict()\n",
    "    userWins = dict()\n",
    "\n",
    "    key = user[0]\n",
    "\n",
    "    tutorialCompleted[key] = 0\n",
    "    intermediateCompleted[key] = 0\n",
    "    advancedCompleted[key] = 0\n",
    "    userAttempts[key] = 0\n",
    "    userWins[key] = 0\n",
    "\n",
    "    user_puzzle_key = None\n",
    "\n",
    "    for enum, event in dataEvents.iterrows():\n",
    "\n",
    "        if(event['type'] in ['ws-start_level', 'ws-puzzle_started']):\n",
    "            user_puzzle_key = event['group'] + '~' + event['user'] + '~' + json.loads(event['data'])['task_id']\n",
    "            if(user_puzzle_key not in completed.keys()): completed[user_puzzle_key] = 0\n",
    "\n",
    "        if(event['type'] == 'ws-puzzle_started'):\n",
    "            userAttempts[key] +=1\n",
    "        elif(event['type'] == 'ws-puzzle_complete'):\n",
    "            userWins[key] += 1\n",
    "            if completed[user_puzzle_key] == 0 :\n",
    "                llave = user_puzzle_key.split(\"~\")\n",
    "                puzzle = llave[2]\n",
    "                if (puzzle in tutorialPuzzles):\n",
    "                    tutorialCompleted[key] += 1\n",
    "                elif (puzzle in intermediatePuzzles):\n",
    "                    intermediateCompleted[key] += 1\n",
    "                elif (puzzle in advancedPuzzles):\n",
    "                    advancedCompleted[key] += 1\n",
    "            completed[user_puzzle_key] = 1\n",
    "\n",
    "    resultado = dict()\n",
    "\n",
    "    if userAttempts[key] == 0 or userWins[key] == 0:\n",
    "        attempts_per_puzzle = 0\n",
    "    else: attempts_per_puzzle = round((userAttempts[key]/userWins[key]),2)\n",
    "\n",
    "    resultado['percentage_tutorial'] = round((tutorialCompleted[key]/9)*100,2)\n",
    "    resultado['percentage_intermediate'] = round((intermediateCompleted[key]/9)*100,2)\n",
    "    resultado['percentage_advanced'] = round((advancedCompleted[key]/13)*100,2)\n",
    "    resultado['attempts_per_puzzle'] = attempts_per_puzzle\n",
    "\n",
    "    return resultado,dataEvents"
   ],
   "metadata": {
    "collapsed": false
   }
  },
  {
   "cell_type": "code",
   "execution_count": 4,
   "outputs": [],
   "source": [
    "userHistorial,eventos = computeUserHistorial(dataEvents,group = ['cb71040b5bd1341a34afc24961536ebd'], user = ['56ccce25ead834182d605eff319bfa2c'] , timeLimit= pd.to_datetime('2019-09-09 13:58:55.405365-04:00',utc=True)  )\n",
    "\n",
    "lista_grupo = []\n",
    "lista_grupo.append('cb71040b5bd1341a34afc24961536ebd')\n",
    "lista_usuario = []\n",
    "lista_usuario.append('56ccce25ead834182d605eff319bfa2c')\n",
    "userHistorial2,_ = computeUserHistorial(dataEvents,lista_grupo,lista_usuario,pd.to_datetime('2019-09-10 13:53:22.263676-04:00',utc=True))"
   ],
   "metadata": {
    "collapsed": false
   }
  },
  {
   "cell_type": "code",
   "execution_count": 5,
   "outputs": [
    {
     "name": "stdout",
     "output_type": "stream",
     "text": [
      "{'percentage_tutorial': 44.44, 'percentage_intermediate': 0.0, 'percentage_advanced': 0.0, 'attempts_per_puzzle': 3.25}\n",
      "{'percentage_tutorial': 66.67, 'percentage_intermediate': 88.89, 'percentage_advanced': 23.08, 'attempts_per_puzzle': 1.68}\n"
     ]
    }
   ],
   "source": [
    "print(userHistorial)\n",
    "print(userHistorial2)\n",
    "eventos.to_csv(\"userHistorialOutput.csv\", decimal=\".\", sep=\";\", mode='w')"
   ],
   "metadata": {
    "collapsed": false
   }
  }
 ],
 "metadata": {
  "kernelspec": {
   "display_name": "Python 3",
   "language": "python",
   "name": "python3"
  },
  "language_info": {
   "codemirror_mode": {
    "name": "ipython",
    "version": 2
   },
   "file_extension": ".py",
   "mimetype": "text/x-python",
   "name": "python",
   "nbconvert_exporter": "python",
   "pygments_lexer": "ipython2",
   "version": "2.7.6"
  }
 },
 "nbformat": 4,
 "nbformat_minor": 0
}
