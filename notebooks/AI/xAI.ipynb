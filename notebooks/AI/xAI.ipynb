{
 "cells": [
  {
   "cell_type": "markdown",
   "source": [
    "# Import libraries"
   ],
   "metadata": {
    "collapsed": false
   }
  },
  {
   "cell_type": "code",
   "execution_count": null,
   "outputs": [],
   "source": [
    "import numpy as np\n",
    "import pandas as pd\n",
    "\n",
    "import joblib\n",
    "\n",
    "import sys\n",
    "sys.path.append('../../python')\n",
    "import splitDataset\n",
    "np.set_printoptions(suppress=True)"
   ],
   "metadata": {
    "collapsed": false
   }
  },
  {
   "cell_type": "markdown",
   "source": [
    "# Load dataset"
   ],
   "metadata": {
    "collapsed": false
   }
  },
  {
   "cell_type": "code",
   "execution_count": null,
   "outputs": [],
   "source": [
    "data1= pd.read_csv('E:/Documentos\\/PCEO\\/5\\/Informatica/TFG/scripts/TFG-Informatica/Outputs/featuresOutput_percentil1.csv', sep=\";\")\n",
    "data2= pd.read_csv('E:/Documentos\\/PCEO\\/5\\/Informatica/TFG/scripts/TFG-Informatica/Outputs/featuresOutput_percentil2.csv', sep=\";\")\n",
    "data3= pd.read_csv('E:/Documentos\\/PCEO\\/5\\/Informatica/TFG/scripts/TFG-Informatica/Outputs/featuresOutput_percentil3.csv', sep=\";\")\n",
    "\n",
    "data1 = data1[data1.bestSubmit != 100.0]\n",
    "data2 = data2[data2.bestSubmit != 100.0]\n",
    "data3 = data3[data3.bestSubmit != 100.0]"
   ],
   "metadata": {
    "collapsed": false
   }
  },
  {
   "cell_type": "markdown",
   "source": [
    "# Split dataset"
   ],
   "metadata": {
    "collapsed": false
   }
  },
  {
   "cell_type": "code",
   "execution_count": null,
   "outputs": [],
   "source": [
    "X_train1, X_test1, y_train1, y_test1 = splitDataset.splitDataset(data1)\n",
    "X_train2, X_test2, y_train2, y_test2 = splitDataset.splitDataset(data2)\n",
    "X_train3, X_test3, y_train3, y_test3 = splitDataset.splitDataset(data3)\n",
    "\n",
    "X_train1 = X_train1.drop(['user'], axis=1)\n",
    "X_test1 = X_test1.drop(['user'], axis=1)\n",
    "\n",
    "X_train2 = X_train2.drop(['user'], axis=1)\n",
    "X_test2 = X_test2.drop(['user'], axis=1)\n",
    "\n",
    "X_train3 = X_train3.drop(['user'], axis=1)\n",
    "X_test3 = X_test3.drop(['user'], axis=1)"
   ],
   "metadata": {
    "collapsed": false
   }
  },
  {
   "cell_type": "markdown",
   "source": [
    "# Load models"
   ],
   "metadata": {
    "collapsed": false
   }
  },
  {
   "cell_type": "code",
   "execution_count": null,
   "outputs": [],
   "source": [
    "model_rfc_1 = joblib.load('./models/rfc_1.pkl')\n",
    "model_rfc_2 = joblib.load('./models/rfc_2.pkl')\n",
    "model_rfc_3 = joblib.load('./models/rfc_3.pkl')\n",
    "\n",
    "model_tree_1 = joblib.load('./models/tree_1.pkl')\n",
    "model_tree_2 = joblib.load('./models/tree_2.pkl')\n",
    "model_tree_3 = joblib.load('./models/tree_3.pkl')\n",
    "\n",
    "model_svc_1 = joblib.load('./models/svc_1.pkl')\n",
    "model_svc_2 = joblib.load('./models/svc_2.pkl')\n",
    "model_svc_3 = joblib.load('./models/svc_3.pkl')\n",
    "\n",
    "model_knn_1 = joblib.load('./models/knn_1.pkl')\n",
    "model_knn_2 = joblib.load('./models/knn_2.pkl')\n",
    "model_knn_3 = joblib.load('./models/knn_3.pkl')\n",
    "\n",
    "model_mlp_1 = joblib.load('./models/mlp_1.pkl')\n",
    "model_mlp_2 = joblib.load('./models/mlp_2.pkl')\n",
    "model_mlp_3 = joblib.load('./models/mlp_3.pkl')\n",
    "\n",
    "model_sgd_1 = joblib.load('./models/sgd_1.pkl')\n",
    "model_sgd_2 = joblib.load('./models/sgd_2.pkl')\n",
    "model_sgd_3 = joblib.load('./models/sgd_3.pkl')\n",
    "\n",
    "model_adaboost_1 = joblib.load('./models/adaboost_1.pkl')\n",
    "model_adaboost_2 = joblib.load('./models/adaboost_2.pkl')\n",
    "model_adaboost_3 = joblib.load('./models/adaboost_3.pkl')"
   ],
   "metadata": {
    "collapsed": false
   }
  },
  {
   "cell_type": "markdown",
   "source": [
    "# Explain models - SHAP"
   ],
   "metadata": {
    "collapsed": false
   }
  },
  {
   "cell_type": "code",
   "execution_count": null,
   "outputs": [],
   "source": [
    "from explainerdashboard import ClassifierExplainer, ExplainerDashboard, ExplainerHub\n",
    "\n",
    "explainer1 = ClassifierExplainer(model_sgd_1, X_test1, y_test1, cats = {'Puzzle' : ['1 One Box','2 Separated Boxes','3 Rotate a Pyramid','4 Match Silhouettes','5 Removing Objects','45-Degree Rotations','6 Stretch a Ramp','7 Max 2 Boxes','8 Combine 2 Ramps','9 Scaling Round Objects','Angled Silhouette','Bear Market','Bird Fez','Boxes Obscure Spheres','Bull Market','Few Clues','More Than Meets Your Eye','Not Bird','Object Limits','Orange Dance','Pi Henge','Pyramids are Strange','Ramp Up and Can It','Sandbox','Square Cross-Sections','Stranger Shapes','Sugar Cones','Tall and Small','Tetromino','Unnecessary','Warm Up','Zzz']})\n",
    "\n",
    "explainer2 = ClassifierExplainer(model_sgd_2, X_test2, y_test2, cats = {'Puzzle' : ['1 One Box','2 Separated Boxes','3 Rotate a Pyramid','4 Match Silhouettes','5 Removing Objects','45-Degree Rotations','6 Stretch a Ramp','7 Max 2 Boxes','8 Combine 2 Ramps','9 Scaling Round Objects','Angled Silhouette','Bear Market','Bird Fez','Boxes Obscure Spheres','Bull Market','Few Clues','More Than Meets Your Eye','Not Bird','Object Limits','Orange Dance','Pi Henge','Pyramids are Strange','Ramp Up and Can It','Sandbox','Square Cross-Sections','Stranger Shapes','Sugar Cones','Tall and Small','Tetromino','Unnecessary','Warm Up','Zzz']})\n",
    "\n",
    "explainer3 = ClassifierExplainer(model_sgd_3, X_test3, y_test3, cats = {'Puzzle' : ['1 One Box','2 Separated Boxes','3 Rotate a Pyramid','4 Match Silhouettes','5 Removing Objects','45-Degree Rotations','6 Stretch a Ramp','7 Max 2 Boxes','8 Combine 2 Ramps','9 Scaling Round Objects','Angled Silhouette','Bear Market','Bird Fez','Boxes Obscure Spheres','Bull Market','Few Clues','More Than Meets Your Eye','Not Bird','Object Limits','Orange Dance','Pi Henge','Pyramids are Strange','Ramp Up and Can It','Sandbox','Square Cross-Sections','Stranger Shapes','Sugar Cones','Tall and Small','Tetromino','Unnecessary','Warm Up','Zzz']})\n",
    "\n",
    "db1 = ExplainerDashboard(explainer1)\n",
    "db2 = ExplainerDashboard(explainer2)\n",
    "db3 = ExplainerDashboard(explainer3)\n",
    "\n",
    "hub = ExplainerHub([db1, db2, db3])\n",
    "hub.run()"
   ],
   "metadata": {
    "collapsed": false
   }
  }
 ],
 "metadata": {
  "kernelspec": {
   "display_name": "Python 3",
   "language": "python",
   "name": "python3"
  },
  "language_info": {
   "codemirror_mode": {
    "name": "ipython",
    "version": 2
   },
   "file_extension": ".py",
   "mimetype": "text/x-python",
   "name": "python",
   "nbconvert_exporter": "python",
   "pygments_lexer": "ipython2",
   "version": "2.7.6"
  }
 },
 "nbformat": 4,
 "nbformat_minor": 0
}
