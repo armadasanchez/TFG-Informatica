{
 "cells": [
  {
   "cell_type": "code",
   "execution_count": 43,
   "metadata": {
    "collapsed": true
   },
   "outputs": [],
   "source": [
    "import numpy as np\n",
    "import pandas as pd\n",
    "\n",
    "\n",
    "\n",
    "import joblib\n",
    "\n",
    "# how can i import a function to measure balanced accuracy?\n",
    "from sklearn.metrics import balanced_accuracy_score\n",
    "from sklearn.metrics import f1_score\n",
    "from sklearn.metrics import cohen_kappa_score\n",
    "from sklearn.metrics import confusion_matrix\n",
    "\n",
    "\n",
    "import sys\n",
    "sys.path.append('../../python')\n",
    "import splitDataset\n",
    "np.set_printoptions(suppress=True)"
   ]
  },
  {
   "cell_type": "markdown",
   "source": [
    "## Load the data"
   ],
   "metadata": {
    "collapsed": false
   }
  },
  {
   "cell_type": "code",
   "execution_count": 44,
   "outputs": [],
   "source": [
    "data1= pd.read_csv('E:/Documentos\\/PCEO\\/5\\/Informatica/TFG/scripts/TFG-Informatica/Outputs/featuresOutput_percentil1.csv', sep=\";\")\n",
    "data2= pd.read_csv('E:/Documentos\\/PCEO\\/5\\/Informatica/TFG/scripts/TFG-Informatica/Outputs/featuresOutput_percentil2.csv', sep=\";\")\n",
    "data3= pd.read_csv('E:/Documentos\\/PCEO\\/5\\/Informatica/TFG/scripts/TFG-Informatica/Outputs/featuresOutput_percentil3.csv', sep=\";\")"
   ],
   "metadata": {
    "collapsed": false
   }
  },
  {
   "cell_type": "markdown",
   "source": [
    "## Split the data"
   ],
   "metadata": {
    "collapsed": false
   }
  },
  {
   "cell_type": "code",
   "execution_count": 45,
   "outputs": [
    {
     "name": "stdout",
     "output_type": "stream",
     "text": [
      "Number of rows X_train1 dataset:  3577\n",
      "Number of rows X_test1 dataset:  1774\n",
      "Number of rows X_train2 dataset:  3577\n",
      "Number of rows X_test2 dataset:  1774\n",
      "Number of rows X_train3 dataset:  3577\n",
      "Number of rows X_test3 dataset:  1774\n"
     ]
    }
   ],
   "source": [
    "X_train1, X_test1, y_train1, y_test1 = splitDataset.splitDataset(data1)\n",
    "X_train2, X_test2, y_train2, y_test2 = splitDataset.splitDataset(data2)\n",
    "X_train3, X_test3, y_train3, y_test3 = splitDataset.splitDataset(data3)\n",
    "\n",
    "# show the number of rows of X_train1\n",
    "print(\"Number of rows X_train1 dataset: \", X_train1.shape[0])\n",
    "print(\"Number of rows X_test1 dataset: \", X_test1.shape[0])\n",
    "\n",
    "print(\"Number of rows X_train2 dataset: \", X_train2.shape[0])\n",
    "print(\"Number of rows X_test2 dataset: \", X_test2.shape[0])\n",
    "\n",
    "print(\"Number of rows X_train3 dataset: \", X_train3.shape[0])\n",
    "print(\"Number of rows X_test3 dataset: \", X_test3.shape[0])"
   ],
   "metadata": {
    "collapsed": false
   }
  },
  {
   "cell_type": "markdown",
   "source": [
    "## Load the models"
   ],
   "metadata": {
    "collapsed": false
   }
  },
  {
   "cell_type": "code",
   "execution_count": 46,
   "outputs": [],
   "source": [
    "model_lr_1 = joblib.load('./models/lr_1.pkl')\n",
    "model_lr_2 = joblib.load('./models/lr_2.pkl')\n",
    "model_lr_3 = joblib.load('./models/lr_3.pkl')\n",
    "\n",
    "model_rfc_1 = joblib.load('./models/rfc_1.pkl')\n",
    "model_rfc_2 = joblib.load('./models/rfc_2.pkl')\n",
    "model_rfc_3 = joblib.load('./models/rfc_3.pkl')\n",
    "\n",
    "model_tree_1 = joblib.load('./models/tree_1.pkl')\n",
    "model_tree_2 = joblib.load('./models/tree_2.pkl')\n",
    "model_tree_3 = joblib.load('./models/tree_3.pkl')\n",
    "\n",
    "model_svc_1 = joblib.load('./models/svc_1.pkl')\n",
    "model_svc_2 = joblib.load('./models/svc_2.pkl')\n",
    "model_svc_3 = joblib.load('./models/svc_3.pkl')\n",
    "\n",
    "model_knn_1 = joblib.load('./models/knn_1.pkl')\n",
    "model_knn_2 = joblib.load('./models/knn_2.pkl')\n",
    "model_knn_3 = joblib.load('./models/knn_3.pkl')\n",
    "\n",
    "model_mlp_1 = joblib.load('./models/mlp_1.pkl')\n",
    "model_mlp_2 = joblib.load('./models/mlp_2.pkl')\n",
    "model_mlp_3 = joblib.load('./models/mlp_3.pkl')\n",
    "\n",
    "model_sgd_1 = joblib.load('./models/sgd_1.pkl')\n",
    "model_sgd_2 = joblib.load('./models/sgd_2.pkl')\n",
    "model_sgd_3 = joblib.load('./models/sgd_3.pkl')\n",
    "\n",
    "model_adaboost_1 = joblib.load('./models/adaboost_1.pkl')\n",
    "model_adaboost_2 = joblib.load('./models/adaboost_2.pkl')\n",
    "model_adaboost_3 = joblib.load('./models/adaboost_3.pkl')"
   ],
   "metadata": {
    "collapsed": false
   }
  },
  {
   "cell_type": "markdown",
   "source": [
    "## Random forest classifier"
   ],
   "metadata": {
    "collapsed": false
   }
  },
  {
   "cell_type": "code",
   "execution_count": 47,
   "outputs": [
    {
     "name": "stdout",
     "output_type": "stream",
     "text": [
      "número de predicciones total: 1774\n",
      "número de predicciones iguales: 1604\n",
      "número de predicciones iguales a 0: 311\n",
      "número de predicciones iguales a 1: 1293\n",
      "número de predicciones iguales a 0 en 1: 367\n",
      "número de predicciones iguales a 1 en 1: 1407\n",
      "RESULTS FOR RFC\n",
      "\n",
      "-----Balanced accuracy-----\n",
      "percentile 1 : 0.7585338680926916\n",
      "percentile 2 : 0.7835398098633393\n",
      "percentile 3 : 0.8165314913844326\n",
      "\n",
      "-----F1 score-----\n",
      "percentile 1 : 0.8871151653363741\n",
      "percentile 2 : 0.8937813827732716\n",
      "percentile 3 : 0.910221531286436\n",
      "\n",
      "-----Confusion matrix-----\n",
      "percentile 1 : [[ 310  240]\n",
      " [  57 1167]]\n",
      "percentile 2 : [[ 342  208]\n",
      " [  67 1157]]\n",
      "percentile 3 : [[ 372  178]\n",
      " [  53 1171]]\n"
     ]
    }
   ],
   "source": [
    "y_pred_rfc_1 = model_rfc_1.predict(X_test1)\n",
    "y_pred_rfc_2 = model_rfc_2.predict(X_test2)\n",
    "y_pred_rfc_3 = model_rfc_3.predict(X_test3)\n",
    "\n",
    "y_pred_rfc_1 = y_pred_rfc_1.astype(int)\n",
    "y_pred_rfc_3 = y_pred_rfc_3.astype(int)\n",
    "\n",
    "count_equal=0\n",
    "count_zeros=0\n",
    "count_ones=0\n",
    "count=0\n",
    "count_zeros_1=0\n",
    "count_ones_1=0\n",
    "\n",
    "for i in range(len(y_pred_rfc_1)):\n",
    "\n",
    "    count +=1\n",
    "    #print('indice:' + str(i))\n",
    "    #print('numero:' + str(y_pred_rfc_1[i]))\n",
    "    if y_pred_rfc_1[i]==0:\n",
    "        count_zeros_1=count_zeros_1+1\n",
    "\n",
    "    if y_pred_rfc_1[i]==1:\n",
    "        count_ones_1=count_ones_1+1\n",
    "\n",
    "    if y_pred_rfc_1[i]==y_pred_rfc_3[i]==0:\n",
    "        count_equal=count_equal+1\n",
    "        count_zeros=count_zeros+1\n",
    "    if y_pred_rfc_1[i]==y_pred_rfc_3[i]==1:\n",
    "        count_equal=count_equal+1\n",
    "        count_ones=count_ones+1\n",
    "\n",
    "\n",
    "print('número de predicciones total: ' +str(count))\n",
    "print('número de predicciones iguales: ' +str(count_equal))\n",
    "print('número de predicciones iguales a 0: ' +str(count_zeros))\n",
    "print('número de predicciones iguales a 1: ' +str(count_ones))\n",
    "print('número de predicciones iguales a 0 en 1: ' +str(count_zeros_1))\n",
    "print('número de predicciones iguales a 1 en 1: ' +str(count_ones_1))\n",
    "\n",
    "\n",
    "print('RESULTS FOR RFC')\n",
    "print()\n",
    "print('-----Balanced accuracy-----')\n",
    "print('percentile 1 : ' + str(balanced_accuracy_score(y_test1, y_pred_rfc_1)))\n",
    "print('percentile 2 : ' + str(balanced_accuracy_score(y_test2, y_pred_rfc_2)))\n",
    "print('percentile 3 : ' + str(balanced_accuracy_score(y_test3, y_pred_rfc_3)))\n",
    "print()\n",
    "print('-----F1 score-----')\n",
    "print('percentile 1 : ' + str(f1_score(y_test1, y_pred_rfc_1)))\n",
    "print('percentile 2 : ' + str(f1_score(y_test2, y_pred_rfc_2)))\n",
    "print('percentile 3 : ' + str(f1_score(y_test3, y_pred_rfc_3)))\n",
    "print()\n",
    "print('-----Confusion matrix-----')\n",
    "print('percentile 1 : ' + str(confusion_matrix(y_test1, y_pred_rfc_1)))\n",
    "print('percentile 2 : ' + str(confusion_matrix(y_test2, y_pred_rfc_2)))\n",
    "print('percentile 3 : ' + str(confusion_matrix(y_test3, y_pred_rfc_3)))"
   ],
   "metadata": {
    "collapsed": false
   }
  },
  {
   "cell_type": "markdown",
   "source": [
    "## Stochastic gradient descent"
   ],
   "metadata": {
    "collapsed": false
   }
  },
  {
   "cell_type": "code",
   "execution_count": 48,
   "outputs": [
    {
     "name": "stdout",
     "output_type": "stream",
     "text": [
      "RESULTS FOR SGD\n",
      "\n",
      "-----Balanced accuracy-----\n",
      "percentile 1 : 0.7437715389185977\n",
      "percentile 2 : 0.7964067142008319\n",
      "percentile 3 : 0.7771360665478313\n",
      "\n",
      "-----F1 score-----\n",
      "percentile 1 : 0.8546395858223814\n",
      "percentile 2 : 0.8754071661237786\n",
      "percentile 3 : 0.8888888888888888\n",
      "\n",
      "-----Cohen kappa score-----\n",
      "percentile 1 : 0.5034196411179059\n",
      "percentile 2 : 0.5951970458043501\n",
      "percentile 3 : 0.5944448427207047\n",
      "\n",
      "-----Confusion matrix-----\n",
      "percentile 1 : [[ 336  214]\n",
      " [ 151 1073]]\n",
      "percentile 2 : [[ 393  157]\n",
      " [ 149 1075]]\n",
      "percentile 3 : [[ 339  211]\n",
      " [  76 1148]]\n"
     ]
    }
   ],
   "source": [
    "y_pred_sgd_1 = model_sgd_1.predict(X_test1)\n",
    "y_pred_sgd_2 = model_sgd_2.predict(X_test2)\n",
    "y_pred_sgd_3 = model_sgd_3.predict(X_test3)\n",
    "\n",
    "print('RESULTS FOR SGD')\n",
    "print()\n",
    "print('-----Balanced accuracy-----')\n",
    "print('percentile 1 : ' + str(balanced_accuracy_score(y_test1, y_pred_sgd_1)))\n",
    "print('percentile 2 : ' + str(balanced_accuracy_score(y_test2, y_pred_sgd_2)))\n",
    "print('percentile 3 : ' + str(balanced_accuracy_score(y_test3, y_pred_sgd_3)))\n",
    "print()\n",
    "print('-----F1 score-----')\n",
    "print('percentile 1 : ' + str(f1_score(y_test1, y_pred_sgd_1)))\n",
    "print('percentile 2 : ' + str(f1_score(y_test2, y_pred_sgd_2)))\n",
    "print('percentile 3 : ' + str(f1_score(y_test3, y_pred_sgd_3)))\n",
    "print()\n",
    "print('-----Cohen kappa score-----')\n",
    "print('percentile 1 : ' + str(cohen_kappa_score(y_test1, y_pred_sgd_1)))\n",
    "print('percentile 2 : ' + str(cohen_kappa_score(y_test2, y_pred_sgd_2)))\n",
    "print('percentile 3 : ' + str(cohen_kappa_score(y_test3, y_pred_sgd_3)))\n",
    "print()\n",
    "print('-----Confusion matrix-----')\n",
    "print('percentile 1 : ' + str(confusion_matrix(y_test1, y_pred_sgd_1)))\n",
    "print('percentile 2 : ' + str(confusion_matrix(y_test2, y_pred_sgd_2)))\n",
    "print('percentile 3 : ' + str(confusion_matrix(y_test3, y_pred_sgd_3)))"
   ],
   "metadata": {
    "collapsed": false
   }
  },
  {
   "cell_type": "markdown",
   "source": [
    "## Multi-layer perceptron classifier"
   ],
   "metadata": {
    "collapsed": false
   }
  },
  {
   "cell_type": "code",
   "execution_count": 49,
   "outputs": [
    {
     "name": "stdout",
     "output_type": "stream",
     "text": [
      "RESULTS FOR MLP\n",
      "\n",
      "-----Balanced accuracy-----\n",
      "percentile 1 : 0.7630510992275699\n",
      "percentile 2 : 0.775634284016637\n",
      "percentile 3 : 0.8126708259061199\n",
      "\n",
      "-----F1 score-----\n",
      "percentile 1 : 0.8808049535603716\n",
      "percentile 2 : 0.8891463885670143\n",
      "percentile 3 : 0.9073929961089494\n",
      "\n",
      "-----Cohen kappa score-----\n",
      "percentile 1 : 0.5645362849236811\n",
      "percentile 2 : 0.5931342229211918\n",
      "percentile 3 : 0.6660169660457596\n",
      "\n",
      "-----Confusion matrix-----\n",
      "percentile 1 : [[ 328  222]\n",
      " [  86 1138]]\n",
      "percentile 2 : [[ 336  214]\n",
      " [  73 1151]]\n",
      "percentile 3 : [[ 370  180]\n",
      " [  58 1166]]\n"
     ]
    }
   ],
   "source": [
    "y_pred_mlp_1 = model_mlp_1.predict(X_test1)\n",
    "y_pred_mlp_2 = model_mlp_2.predict(X_test2)\n",
    "y_pred_mlp_3 = model_mlp_3.predict(X_test3)\n",
    "\n",
    "print('RESULTS FOR MLP')\n",
    "print()\n",
    "print('-----Balanced accuracy-----')\n",
    "print('percentile 1 : ' + str(balanced_accuracy_score(y_test1, y_pred_mlp_1)))\n",
    "print('percentile 2 : ' + str(balanced_accuracy_score(y_test2, y_pred_mlp_2)))\n",
    "print('percentile 3 : ' + str(balanced_accuracy_score(y_test3, y_pred_mlp_3)))\n",
    "print()\n",
    "print('-----F1 score-----')\n",
    "print('percentile 1 : ' + str(f1_score(y_test1, y_pred_mlp_1)))\n",
    "print('percentile 2 : ' + str(f1_score(y_test2, y_pred_mlp_2)))\n",
    "print('percentile 3 : ' + str(f1_score(y_test3, y_pred_mlp_3)))\n",
    "print()\n",
    "print('-----Cohen kappa score-----')\n",
    "print('percentile 1 : ' + str(cohen_kappa_score(y_test1, y_pred_mlp_1)))\n",
    "print('percentile 2 : ' + str(cohen_kappa_score(y_test2, y_pred_mlp_2)))\n",
    "print('percentile 3 : ' + str(cohen_kappa_score(y_test3, y_pred_mlp_3)))\n",
    "print()\n",
    "print('-----Confusion matrix-----')\n",
    "print('percentile 1 : ' + str(confusion_matrix(y_test1, y_pred_mlp_1)))\n",
    "print('percentile 2 : ' + str(confusion_matrix(y_test2, y_pred_mlp_2)))\n",
    "print('percentile 3 : ' + str(confusion_matrix(y_test3, y_pred_mlp_3)))"
   ],
   "metadata": {
    "collapsed": false
   }
  },
  {
   "cell_type": "markdown",
   "source": [
    "## AdaBoost classifier"
   ],
   "metadata": {
    "collapsed": false
   }
  },
  {
   "cell_type": "code",
   "execution_count": 50,
   "outputs": [
    {
     "name": "stdout",
     "output_type": "stream",
     "text": [
      "RESULTS FOR ADABOOST\n",
      "\n",
      "-----Balanced accuracy-----\n",
      "percentile 1 : 0.7711244800950683\n",
      "percentile 2 : 0.8062789661319073\n",
      "percentile 3 : 0.8390062388591801\n",
      "\n",
      "-----F1 score-----\n",
      "percentile 1 : 0.8703629836457918\n",
      "percentile 2 : 0.8970414201183432\n",
      "percentile 3 : 0.9099639855942376\n",
      "\n",
      "-----Cohen kappa score-----\n",
      "percentile 1 : 0.5587517238951382\n",
      "percentile 2 : 0.6404506422770667\n",
      "percentile 3 : 0.6957758459054927\n",
      "\n",
      "-----Confusion matrix-----\n",
      "percentile 1 : [[ 358  192]\n",
      " [ 133 1091]]\n",
      "percentile 2 : [[ 376  174]\n",
      " [  87 1137]]\n",
      "percentile 3 : [[ 412  138]\n",
      " [  87 1137]]\n"
     ]
    }
   ],
   "source": [
    "y_pred_adaboost_1 = model_adaboost_1.predict(X_test1)\n",
    "y_pred_adaboost_2 = model_adaboost_2.predict(X_test2)\n",
    "y_pred_adaboost_3 = model_adaboost_3.predict(X_test3)\n",
    "\n",
    "y_pred_adaboost_1 = y_pred_adaboost_1.astype(int)\n",
    "y_pred_adaboost_3 = y_pred_adaboost_3.astype(int)\n",
    "\n",
    "print('RESULTS FOR ADABOOST')\n",
    "print()\n",
    "print('-----Balanced accuracy-----')\n",
    "print('percentile 1 : ' + str(balanced_accuracy_score(y_test1, y_pred_adaboost_1)))\n",
    "print('percentile 2 : ' + str(balanced_accuracy_score(y_test2, y_pred_adaboost_2)))\n",
    "print('percentile 3 : ' + str(balanced_accuracy_score(y_test3, y_pred_adaboost_3)))\n",
    "print()\n",
    "print('-----F1 score-----')\n",
    "print('percentile 1 : ' + str(f1_score(y_test1, y_pred_adaboost_1)))\n",
    "print('percentile 2 : ' + str(f1_score(y_test2, y_pred_adaboost_2)))\n",
    "print('percentile 3 : ' + str(f1_score(y_test3, y_pred_adaboost_3)))\n",
    "print()\n",
    "print('-----Cohen kappa score-----')\n",
    "print('percentile 1 : ' + str(cohen_kappa_score(y_test1, y_pred_adaboost_1)))\n",
    "print('percentile 2 : ' + str(cohen_kappa_score(y_test2, y_pred_adaboost_2)))\n",
    "print('percentile 3 : ' + str(cohen_kappa_score(y_test3, y_pred_adaboost_3)))\n",
    "print()\n",
    "print('-----Confusion matrix-----')\n",
    "print('percentile 1 : ' + str(confusion_matrix(y_test1, y_pred_adaboost_1)))\n",
    "print('percentile 2 : ' + str(confusion_matrix(y_test2, y_pred_adaboost_2)))\n",
    "print('percentile 3 : ' + str(confusion_matrix(y_test3, y_pred_adaboost_3)))"
   ],
   "metadata": {
    "collapsed": false
   }
  },
  {
   "cell_type": "markdown",
   "source": [
    "## K-nearest neighbors classifier"
   ],
   "metadata": {
    "collapsed": false
   }
  },
  {
   "cell_type": "code",
   "execution_count": 51,
   "outputs": [
    {
     "name": "stderr",
     "output_type": "stream",
     "text": [
      "C:\\Users\\alvar\\anaconda3\\lib\\site-packages\\sklearn\\neighbors\\_classification.py:228: FutureWarning: Unlike other reduction functions (e.g. `skew`, `kurtosis`), the default behavior of `mode` typically preserves the axis it acts along. In SciPy 1.11.0, this behavior will change: the default value of `keepdims` will become False, the `axis` over which the statistic is taken will be eliminated, and the value None will no longer be accepted. Set `keepdims` to True or False to avoid this warning.\n",
      "  mode, _ = stats.mode(_y[neigh_ind, k], axis=1)\n"
     ]
    },
    {
     "name": "stdout",
     "output_type": "stream",
     "text": [
      "RESULTS FOR KNN\n",
      "\n",
      "-----Balanced accuracy-----\n",
      "percentile 1 : 0.6806001188354129\n",
      "percentile 2 : 0.7470959595959596\n",
      "percentile 3 : 0.7742245989304812\n",
      "\n",
      "-----F1 score-----\n",
      "percentile 1 : 0.849212303075769\n",
      "percentile 2 : 0.8751440645409143\n",
      "percentile 3 : 0.8888888888888888\n",
      "\n",
      "-----Cohen kappa score-----\n",
      "percentile 1 : 0.40544641457712915\n",
      "percentile 2 : 0.5357628851867657\n",
      "percentile 3 : 0.591055786076533\n",
      "\n",
      "-----Confusion matrix-----\n",
      "percentile 1 : [[ 240  310]\n",
      " [  92 1132]]\n",
      "percentile 2 : [[ 310  240]\n",
      " [  85 1139]]\n",
      "percentile 3 : [[ 334  216]\n",
      " [  72 1152]]\n"
     ]
    },
    {
     "name": "stderr",
     "output_type": "stream",
     "text": [
      "C:\\Users\\alvar\\anaconda3\\lib\\site-packages\\sklearn\\neighbors\\_classification.py:228: FutureWarning: Unlike other reduction functions (e.g. `skew`, `kurtosis`), the default behavior of `mode` typically preserves the axis it acts along. In SciPy 1.11.0, this behavior will change: the default value of `keepdims` will become False, the `axis` over which the statistic is taken will be eliminated, and the value None will no longer be accepted. Set `keepdims` to True or False to avoid this warning.\n",
      "  mode, _ = stats.mode(_y[neigh_ind, k], axis=1)\n"
     ]
    }
   ],
   "source": [
    "y_pred_knn_1 = model_knn_1.predict(X_test1)\n",
    "y_pred_knn_2 = model_knn_2.predict(X_test2)\n",
    "y_pred_knn_3 = model_knn_3.predict(X_test3)\n",
    "\n",
    "\n",
    "print('RESULTS FOR KNN')\n",
    "print()\n",
    "print('-----Balanced accuracy-----')\n",
    "print('percentile 1 : ' + str(balanced_accuracy_score(y_test1, y_pred_knn_1)))\n",
    "print('percentile 2 : ' + str(balanced_accuracy_score(y_test2, y_pred_knn_2)))\n",
    "print('percentile 3 : ' + str(balanced_accuracy_score(y_test3, y_pred_knn_3)))\n",
    "print()\n",
    "print('-----F1 score-----')\n",
    "print('percentile 1 : ' + str(f1_score(y_test1, y_pred_knn_1)))\n",
    "print('percentile 2 : ' + str(f1_score(y_test2, y_pred_knn_2)))\n",
    "print('percentile 3 : ' + str(f1_score(y_test3, y_pred_knn_3)))\n",
    "print()\n",
    "print('-----Cohen kappa score-----')\n",
    "print('percentile 1 : ' + str(cohen_kappa_score(y_test1, y_pred_knn_1)))\n",
    "print('percentile 2 : ' + str(cohen_kappa_score(y_test2, y_pred_knn_2)))\n",
    "print('percentile 3 : ' + str(cohen_kappa_score(y_test3, y_pred_knn_3)))\n",
    "print()\n",
    "print('-----Confusion matrix-----')\n",
    "print('percentile 1 : ' + str(confusion_matrix(y_test1, y_pred_knn_1)))\n",
    "print('percentile 2 : ' + str(confusion_matrix(y_test2, y_pred_knn_2)))\n",
    "print('percentile 3 : ' + str(confusion_matrix(y_test3, y_pred_knn_3)))"
   ],
   "metadata": {
    "collapsed": false
   }
  },
  {
   "cell_type": "markdown",
   "source": [
    "## Decision tree classifier"
   ],
   "metadata": {
    "collapsed": false
   }
  },
  {
   "cell_type": "code",
   "execution_count": 52,
   "outputs": [
    {
     "name": "stdout",
     "output_type": "stream",
     "text": [
      "RESULTS FOR DECISION TREE\n",
      "\n",
      "-----Balanced accuracy-----\n",
      "percentile 1 : 0.7366711229946523\n",
      "percentile 2 : 0.7810323826500297\n",
      "percentile 3 : 0.8159863339275104\n",
      "\n",
      "-----F1 score-----\n",
      "percentile 1 : 0.856805664830842\n",
      "percentile 2 : 0.874749899959984\n",
      "percentile 3 : 0.8887083671811535\n",
      "\n",
      "-----Cohen kappa score-----\n",
      "percentile 1 : 0.4967156231586758\n",
      "percentile 2 : 0.5767903989707521\n",
      "percentile 3 : 0.6364329929601694\n",
      "\n",
      "-----Confusion matrix-----\n",
      "percentile 1 : [[ 321  229]\n",
      " [ 135 1089]]\n",
      "percentile 2 : [[ 368  182]\n",
      " [ 131 1093]]\n",
      "percentile 3 : [[ 406  144]\n",
      " [ 130 1094]]\n"
     ]
    }
   ],
   "source": [
    "y_pred_tree_1 = model_tree_1.predict(X_test1)\n",
    "y_pred_tree_2 = model_tree_2.predict(X_test2)\n",
    "y_pred_tree_3 = model_tree_3.predict(X_test3)\n",
    "\n",
    "print('RESULTS FOR DECISION TREE')\n",
    "print()\n",
    "print('-----Balanced accuracy-----')\n",
    "print('percentile 1 : ' + str(balanced_accuracy_score(y_test1, y_pred_tree_1)))\n",
    "print('percentile 2 : ' + str(balanced_accuracy_score(y_test2, y_pred_tree_2)))\n",
    "print('percentile 3 : ' + str(balanced_accuracy_score(y_test3, y_pred_tree_3)))\n",
    "print()\n",
    "print('-----F1 score-----')\n",
    "print('percentile 1 : ' + str(f1_score(y_test1, y_pred_tree_1)))\n",
    "print('percentile 2 : ' + str(f1_score(y_test2, y_pred_tree_2)))\n",
    "print('percentile 3 : ' + str(f1_score(y_test3, y_pred_tree_3)))\n",
    "print()\n",
    "print('-----Cohen kappa score-----')\n",
    "print('percentile 1 : ' + str(cohen_kappa_score(y_test1, y_pred_tree_1)))\n",
    "print('percentile 2 : ' + str(cohen_kappa_score(y_test2, y_pred_tree_2)))\n",
    "print('percentile 3 : ' + str(cohen_kappa_score(y_test3, y_pred_tree_3)))\n",
    "print()\n",
    "print('-----Confusion matrix-----')\n",
    "print('percentile 1 : ' + str(confusion_matrix(y_test1, y_pred_tree_1)))\n",
    "print('percentile 2 : ' + str(confusion_matrix(y_test2, y_pred_tree_2)))\n",
    "print('percentile 3 : ' + str(confusion_matrix(y_test3, y_pred_tree_3)))"
   ],
   "metadata": {
    "collapsed": false
   }
  },
  {
   "cell_type": "markdown",
   "source": [
    "## Support vector machine classifier"
   ],
   "metadata": {
    "collapsed": false
   }
  },
  {
   "cell_type": "code",
   "execution_count": 53,
   "outputs": [
    {
     "name": "stdout",
     "output_type": "stream",
     "text": [
      "RESULTS FOR SVC\n",
      "\n",
      "-----Balanced accuracy-----\n",
      "percentile 1 : 0.7055941770647653\n",
      "percentile 2 : 0.7613770053475936\n",
      "percentile 3 : 0.7937358882947119\n",
      "\n",
      "-----F1 score-----\n",
      "percentile 1 : 0.8609121748963439\n",
      "percentile 2 : 0.8765095442150369\n",
      "percentile 3 : 0.8910735351946522\n",
      "\n",
      "-----Cohen kappa score-----\n",
      "percentile 1 : 0.4582107711280138\n",
      "percentile 2 : 0.5558674263185578\n",
      "percentile 3 : 0.616804822321171\n",
      "\n",
      "-----Confusion matrix-----\n",
      "percentile 1 : [[ 263  287]\n",
      " [  82 1142]]\n",
      "percentile 2 : [[ 332  218]\n",
      " [  99 1125]]\n",
      "percentile 3 : [[ 364  186]\n",
      " [  91 1133]]\n"
     ]
    }
   ],
   "source": [
    "y_pred_svc_1 = model_svc_1.predict(X_test1)\n",
    "y_pred_svc_2 = model_svc_2.predict(X_test2)\n",
    "y_pred_svc_3 = model_svc_3.predict(X_test3)\n",
    "\n",
    "print('RESULTS FOR SVC')\n",
    "print()\n",
    "print('-----Balanced accuracy-----')\n",
    "print('percentile 1 : ' + str(balanced_accuracy_score(y_test1, y_pred_svc_1)))\n",
    "print('percentile 2 : ' + str(balanced_accuracy_score(y_test2, y_pred_svc_2)))\n",
    "print('percentile 3 : ' + str(balanced_accuracy_score(y_test3, y_pred_svc_3)))\n",
    "print()\n",
    "print('-----F1 score-----')\n",
    "print('percentile 1 : ' + str(f1_score(y_test1, y_pred_svc_1)))\n",
    "print('percentile 2 : ' + str(f1_score(y_test2, y_pred_svc_2)))\n",
    "print('percentile 3 : ' + str(f1_score(y_test3, y_pred_svc_3)))\n",
    "print()\n",
    "print('-----Cohen kappa score-----')\n",
    "print('percentile 1 : ' + str(cohen_kappa_score(y_test1, y_pred_svc_1)))\n",
    "print('percentile 2 : ' + str(cohen_kappa_score(y_test2, y_pred_svc_2)))\n",
    "print('percentile 3 : ' + str(cohen_kappa_score(y_test3, y_pred_svc_3)))\n",
    "print()\n",
    "print('-----Confusion matrix-----')\n",
    "print('percentile 1 : ' + str(confusion_matrix(y_test1, y_pred_svc_1)))\n",
    "print('percentile 2 : ' + str(confusion_matrix(y_test2, y_pred_svc_2)))\n",
    "print('percentile 3 : ' + str(confusion_matrix(y_test3, y_pred_svc_3)))"
   ],
   "metadata": {
    "collapsed": false
   }
  }
 ],
 "metadata": {
  "kernelspec": {
   "display_name": "Python 3",
   "language": "python",
   "name": "python3"
  },
  "language_info": {
   "codemirror_mode": {
    "name": "ipython",
    "version": 2
   },
   "file_extension": ".py",
   "mimetype": "text/x-python",
   "name": "python",
   "nbconvert_exporter": "python",
   "pygments_lexer": "ipython2",
   "version": "2.7.6"
  }
 },
 "nbformat": 4,
 "nbformat_minor": 0
}
