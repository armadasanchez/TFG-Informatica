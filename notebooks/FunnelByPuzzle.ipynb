{
 "cells": [
  {
   "cell_type": "code",
   "execution_count": 5,
   "metadata": {},
   "outputs": [],
   "source": [
    "import pandas as pd\n",
    "import numpy as np\n",
    "from datetime import datetime\n",
    "import json"
   ]
  },
  {
   "cell_type": "code",
   "execution_count": 6,
   "metadata": {},
   "outputs": [],
   "source": [
    "dataEvents = pd.read_csv('E:/Documentos/PCEO/5/Informatica/TFG/datos/anonamyze_all_data_collection_v2.csv', sep=\";\")"
   ]
  },
  {
   "cell_type": "code",
   "execution_count": 7,
   "metadata": {},
   "outputs": [],
   "source": [
    "def computeFunnelByPuzzle(dataEvents, group = 'all'):\n",
    "\n",
    "    dataEvents['time'] = pd.to_datetime(dataEvents['time'],utc=True)\n",
    "    dataEvents = dataEvents.sort_values('time')\n",
    "    dataEvents['group'] = [json.loads(x)['group'] if 'group' in json.loads(x).keys() else '' for x in dataEvents['data']]\n",
    "    dataEvents['user'] = [json.loads(x)['user'] if 'user' in json.loads(x).keys() else '' for x in dataEvents['data']]\n",
    "    \n",
    "    # removing those rows where we dont have a group and a user that is not guest\n",
    "    dataEvents = dataEvents[((dataEvents['group'] != '') & (dataEvents['user'] != '') & (dataEvents['user'] != 'guest'))]\n",
    "    dataEvents['group_user_id'] = dataEvents['group'] + '~' + dataEvents['user']\n",
    "    \n",
    "    # filtering to only take the group passed as argument\n",
    "    if(group != 'all'):\n",
    "        dataEvents = dataEvents[dataEvents['group'].isin(group)]\n",
    "    \n",
    "    # userFunnelDict key: (group~user~puzzle), json values: started, create_shape, submitted, completed\n",
    "    userFunnelDict = dict()   \n",
    "\n",
    "    for user in dataEvents['group_user_id'].unique():\n",
    "\n",
    "        user_events = dataEvents[dataEvents['group_user_id'] == user]\n",
    "        user_puzzle_key = None\n",
    "\n",
    "        for enum, event in user_events.iterrows():\n",
    "\n",
    "            if(event['type'] in ['ws-start_level', 'ws-puzzle_started']):\n",
    "                user_puzzle_key = event['group'] + '~' + event['user'] + '~' + json.loads(event['data'])['task_id']\n",
    "                if(user_puzzle_key not in userFunnelDict.keys()):\n",
    "                    userFunnelDict[user_puzzle_key] = json.loads('{\"started\": 0, \"create_shape\": 0, \"submitted\": 0, \"completed\": 0}')\n",
    "\n",
    "            if(event['type'] == 'ws-puzzle_started'):\n",
    "                userFunnelDict[user_puzzle_key]['started'] += 1\n",
    "            elif(event['type'] == 'ws-create_shape'):\n",
    "                userFunnelDict[user_puzzle_key]['create_shape'] += 1\n",
    "            elif(event['type'] == 'ws-check_solution'):\n",
    "                userFunnelDict[user_puzzle_key]['submitted'] += 1\n",
    "            elif(event['type'] == 'ws-puzzle_complete'):\n",
    "                userFunnelDict[user_puzzle_key]['completed'] += 1\n",
    "                \n",
    "    userFunnelList = []\n",
    "    for key in userFunnelDict.keys():\n",
    "        key_split = key.split('~')\n",
    "        userFunnelList.append([key_split[0], key_split[1], key_split[2], userFunnelDict[key]])\n",
    "        \n",
    "    userFunnelByPuzzle = pd.DataFrame(userFunnelList, columns=['group', 'user', 'task_id', 'funnel'])\n",
    "    \n",
    "    return userFunnelByPuzzle"
   ]
  },
  {
   "cell_type": "code",
   "execution_count": 8,
   "outputs": [],
   "source": [
    "userFunnelByPuzzle = computeFunnelByPuzzle(dataEvents, group=['cb71040b5bd1341a34afc24961536ebd'])\n",
    "userFunnelByPuzzle\n",
    "userFunnelByPuzzle.to_csv(\"FunnelByPuzzleOutput.csv\", decimal = \".\",sep =\";\", mode='w')"
   ],
   "metadata": {
    "collapsed": false
   }
  }
 ],
 "metadata": {
  "kernelspec": {
   "display_name": "Python 3 (ipykernel)",
   "language": "python",
   "name": "python3"
  },
  "language_info": {
   "codemirror_mode": {
    "name": "ipython",
    "version": 3
   },
   "file_extension": ".py",
   "mimetype": "text/x-python",
   "name": "python",
   "nbconvert_exporter": "python",
   "pygments_lexer": "ipython3",
   "version": "3.9.13"
  }
 },
 "nbformat": 4,
 "nbformat_minor": 4
}
