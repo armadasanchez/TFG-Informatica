{
 "cells": [
  {
   "cell_type": "code",
   "execution_count": 13,
   "outputs": [],
   "source": [
    "import pandas as pd"
   ],
   "metadata": {
    "collapsed": false
   }
  },
  {
   "cell_type": "code",
   "execution_count": 14,
   "outputs": [],
   "source": [
    "dataEvents = pd.read_csv('E:/Documentos/PCEO/5/Informatica/TFG/datos/anonamyze_all_data_collection_v2.csv', sep=\";\")"
   ],
   "metadata": {
    "collapsed": false
   }
  },
  {
   "cell_type": "code",
   "execution_count": 15,
   "outputs": [],
   "source": [
    "import numpy as np\n",
    "import json\n",
    "import hashlib\n",
    "from datetime import datetime\n",
    "from datetime import timedelta\n",
    "from collections import OrderedDict\n",
    "\n",
    "pd.options.mode.chained_assignment = None  # default='warn'\n",
    "\n",
    "listActionEvents = ['ws-move_shape', 'ws-rotate_shape', 'ws-scale_shape',\n",
    "                    'ws-check_solution', 'ws-undo_action', 'ws-redo_action',\n",
    "                    'ws-rotate_view', 'ws-snapshot', 'ws-mode_change',\n",
    "                    'ws-create_shape', 'ws-select_shape', 'ws-delete_shape', 'ws-select_shape_add']\n",
    "\n",
    "orderMapping = {'1. One Box': 1, '2. Separated Boxes': 2, '3. Rotate a Pyramid': 3, '4. Match Silhouettes': 4, '5. Removing Objects': 5, '6. Stretch a Ramp': 6, '7. Max 2 Boxes': 7, '8. Combine 2 Ramps': 8, '9. Scaling Round Objects': 9,\n",
    "                'Square Cross-Sections': 10, 'Bird Fez': 11, 'Pi Henge': 12, '45-Degree Rotations': 13,  'Pyramids are Strange': 14, 'Boxes Obscure Spheres': 15, 'Object Limits': 16, 'Warm Up': 17, 'Angled Silhouette': 18,\n",
    "                'Sugar Cones': 19,'Stranger Shapes': 20, 'Tall and Small': 21, 'Ramp Up and Can It': 22, 'More Than Meets Your Eye': 23, 'Not Bird': 24, 'Unnecesary': 25, 'Zzz': 26, 'Bull Market': 27, 'Few Clues': 28, 'Orange Dance': 29, 'Bear Market': 30}\n",
    "\n",
    "\n",
    "def percentiles(dataEvents, group = 'all'):\n",
    "\n",
    "    dataEvents['group'] = [json.loads(x)['group'] if 'group' in json.loads(x).keys() else '' for x in dataEvents['data']]\n",
    "    dataEvents['user'] = [json.loads(x)['user'] if 'user' in json.loads(x).keys() else '' for x in dataEvents['data']]\n",
    "    # removing those rows where we dont have a group and a user that is not guest\n",
    "    dataEvents = dataEvents[((dataEvents['group'] != '') & (dataEvents['user'] != '') & (dataEvents['user'] != 'guest'))]\n",
    "    dataEvents['group_user_id'] = dataEvents['group'] + '~' + dataEvents['user']\n",
    "    # filtering to only take the group passed as argument\n",
    "    if(group != 'all'):\n",
    "        dataEvents = dataEvents[dataEvents['group'].isin(group)]\n",
    "\n",
    "    # Data Cleaning\n",
    "    dataEvents['time'] = pd.to_datetime(dataEvents['time'])\n",
    "    dataEvents = dataEvents.sort_values('time')\n",
    "\n",
    "\n",
    "    # puzzleDict[user][puzzle_id] = {'tutorial':value, 'completed':value, 'n_actions':value, 'n_attempts':value, 'sum_time':value}\n",
    "    userPuzzleDict = {}\n",
    "    theresHoldActivity = 60\n",
    "\n",
    "    for user in dataEvents['group_user_id'].unique():\n",
    "        #Select rows\n",
    "        user_events = dataEvents[dataEvents['group_user_id'] == user]\n",
    "        userPuzzleDict[user] = {}\n",
    "        # Analyze when a puzzle has been started\n",
    "        activePuzzle = None\n",
    "        previousEvent = None\n",
    "        activeTime = []\n",
    "\n",
    "        for enum, event in user_events.iterrows():\n",
    "            #print(('{} - {}').format(event['time'], event['type']))\n",
    "            if(event['type'] == 'ws-start_level'):\n",
    "                #print('\\\\start level\\\\')\n",
    "                #print(json.loads(event['data']))\n",
    "                initialTime = event['time']\n",
    "                activePuzzle = json.loads(event['data'])['task_id']\n",
    "                if(activePuzzle not in userPuzzleDict[user].keys()):\n",
    "                    userPuzzleDict[user][activePuzzle] = {'completed':0,'avg_complete_time':0,'TotalTime':0}\n",
    "\n",
    "            # If event is puzzle complete we always add it\n",
    "            if(event['type'] == 'ws-puzzle_complete'):\n",
    "                puzzleName = json.loads(event['data'])['task_id']\n",
    "                if(puzzleName in userPuzzleDict[user].keys()):\n",
    "                    if(userPuzzleDict[user][puzzleName]['completed']==0):\n",
    "                        userPuzzleDict[user][activePuzzle]['avg_complete_time'] += round(np.sum(activeTime)/60,2)\n",
    "                        userPuzzleDict[user][activePuzzle]['TotalTime'] += round(((event['time'] - initialTime).total_seconds())/60,2)\n",
    "                        userPuzzleDict[user][puzzleName]['completed'] = 1\n",
    "\n",
    "            # If they are not playing a puzzle we do not do anything and continue\n",
    "            if(activePuzzle is None):\n",
    "                continue\n",
    "\n",
    "            # If it is the first event we store the current event and continue\n",
    "            if(previousEvent is None):\n",
    "                previousEvent = event\n",
    "                continue\n",
    "\n",
    "            #Add new active time\n",
    "            delta_seconds = (event['time'] - previousEvent['time']).total_seconds()\n",
    "            if((delta_seconds < theresHoldActivity)):\n",
    "                activeTime.append(delta_seconds)\n",
    "\n",
    "          # Analyze when puzzle is finished or user left\n",
    "            # Measure time, attempts, completion and actions\n",
    "            if(event['type'] in ['ws-puzzle_complete', 'ws-exit_to_menu', 'ws-disconnect']):\n",
    "                # reset counters\n",
    "                activeTime = []\n",
    "                activePuzzle = None\n",
    "\n",
    "            previousEvent = event\n",
    "\n",
    "\n",
    "    stats_by_level_player = []\n",
    "    for user in userPuzzleDict.keys():\n",
    "        userDf = pd.DataFrame.from_dict(userPuzzleDict[user], orient = 'index')\n",
    "        userDf['group_user_id'] = user\n",
    "        key_split = user.split('~')\n",
    "        userDf['group'] = key_split[0]\n",
    "        if (userDf.shape != 0):\n",
    "            stats_by_level_player.append(userDf)\n",
    "        else:\n",
    "            continue\n",
    "\n",
    "    try:\n",
    "        stats_by_level_player = pd.concat(stats_by_level_player, sort=True)\n",
    "        stats_by_level_player['puzzle'] = stats_by_level_player.index\n",
    "        stats_by_level_player['order'] = stats_by_level_player['puzzle'].map(orderMapping)\n",
    "\n",
    "        percentiles = round(stats_by_level_player.groupby(['puzzle','order']).agg({\n",
    "                                                    'avg_complete_time': lambda x: np.mean(x[x!=0]),\n",
    "                                                     'TotalTime': lambda x: np.mean(x[x!=0]) })\n",
    "                               .reset_index(),2).sort_values('order').rename(columns = {'completed': 'n_completed',\n",
    "        'group_user_id': 'n_started', 'puzzle': 'task_id'})\n",
    "\n",
    "        #percentiles = stats_by_level.loc[:,['task_id','complete_time']]\n",
    "        percentiles['percentil1'] = round(percentiles['avg_complete_time']*0.25,2)\n",
    "        percentiles['percentil2'] = round(percentiles['avg_complete_time']*0.5,2)\n",
    "        percentiles['percentil3'] = round(percentiles['avg_complete_time']*0.75,2)\n",
    "        return percentiles,stats_by_level_player\n",
    "    except ValueError:\n",
    "        return -1"
   ],
   "metadata": {
    "collapsed": false
   }
  },
  {
   "cell_type": "code",
   "execution_count": 16,
   "outputs": [],
   "source": [
    "pruebas,pruebas2 = percentiles(dataEvents)"
   ],
   "metadata": {
    "collapsed": false
   }
  },
  {
   "cell_type": "code",
   "execution_count": 17,
   "outputs": [],
   "source": [
    "pruebas.to_csv(\"percentilesOutput.csv\", decimal = \".\", sep =\";\", mode='w')\n",
    "pruebas2.to_csv(\"statsByLevelPlayerOutput.csv\", decimal = \".\", sep =\";\", mode='w')"
   ],
   "metadata": {
    "collapsed": false
   }
  }
 ],
 "metadata": {
  "kernelspec": {
   "display_name": "Python 3",
   "language": "python",
   "name": "python3"
  },
  "language_info": {
   "codemirror_mode": {
    "name": "ipython",
    "version": 2
   },
   "file_extension": ".py",
   "mimetype": "text/x-python",
   "name": "python",
   "nbconvert_exporter": "python",
   "pygments_lexer": "ipython2",
   "version": "2.7.6"
  }
 },
 "nbformat": 4,
 "nbformat_minor": 0
}
