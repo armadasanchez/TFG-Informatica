{
 "cells": [
  {
   "cell_type": "code",
   "execution_count": 1,
   "outputs": [],
   "source": [
    "import pandas as pd\n",
    "import numpy as np\n",
    "import json"
   ],
   "metadata": {
    "collapsed": false
   }
  },
  {
   "cell_type": "code",
   "execution_count": 2,
   "outputs": [],
   "source": [
    "dataEvents = pd.read_csv('../../datos/anonamyze_all_data_collection_v2.csv', sep=\";\")"
   ],
   "metadata": {
    "collapsed": false
   }
  },
  {
   "cell_type": "code",
   "execution_count": 3,
   "outputs": [],
   "source": [
    "pd.options.mode.chained_assignment = None  # default='warn'\n",
    "\n",
    "orderMapping = {'1. One Box': 1, '2. Separated Boxes': 2, '3. Rotate a Pyramid': 3, '4. Match Silhouettes': 4, '5. Removing Objects': 5, '6. Stretch a Ramp': 6, '7. Max 2 Boxes': 7, '8. Combine 2 Ramps': 8, '9. Scaling Round Objects': 9,'Square Cross-Sections': 10, 'Bird Fez': 11, 'Pi Henge': 12, '45-Degree Rotations': 13,  'Pyramids are Strange': 14, 'Boxes Obscure Spheres': 15, 'Object Limits': 16, 'Warm Up': 17, 'Angled Silhouette': 18, 'Sugar Cones': 19,'Stranger Shapes': 20, 'Tall and Small': 21, 'Ramp Up and Can It': 22, 'More Than Meets Your Eye': 23, 'Not Bird': 24, 'Unnecesary': 25, 'Zzz': 26, 'Bull Market': 27, 'Few Clues': 28, 'Orange Dance': 29, 'Bear Market': 30}\n",
    "\n",
    "\n",
    "def computeAvgTimes(dataEvents):\n",
    "\n",
    "    dataEvents['group'] = [json.loads(x)['group'] if 'group' in json.loads(x).keys() else '' for x in dataEvents['data']]\n",
    "    dataEvents['user'] = [json.loads(x)['user'] if 'user' in json.loads(x).keys() else '' for x in dataEvents['data']]\n",
    "\n",
    "    # removing those rows where we dont have a group and a user that is not guest\n",
    "    dataEvents = dataEvents[((dataEvents['group'] != '') & (dataEvents['user'] != '') & (dataEvents['user'] != 'guest'))]\n",
    "    dataEvents['group_user_id'] = dataEvents['group'] + '~' + dataEvents['user']\n",
    "\n",
    "\n",
    "    # Data Cleaning\n",
    "    dataEvents['time'] = pd.to_datetime(dataEvents['time'])\n",
    "    dataEvents = dataEvents.sort_values('time')\n",
    "\n",
    "    userPuzzleDict = {}\n",
    "    theresHoldActivity = 60\n",
    "\n",
    "    for user in dataEvents['group_user_id'].unique():\n",
    "\n",
    "        #Select rows\n",
    "        user_events = dataEvents[dataEvents['group_user_id'] == user]\n",
    "        userPuzzleDict[user] = {}\n",
    "\n",
    "        # Analyze when a puzzle has been started\n",
    "        activePuzzle = None\n",
    "        previousEvent = None\n",
    "        activeTime = 0\n",
    "        initialTime = None\n",
    "\n",
    "        for enum, event in user_events.iterrows():\n",
    "\n",
    "            if(event['type'] == 'ws-puzzle_started'):\n",
    "\n",
    "                initialTime = event['time']\n",
    "                activePuzzle = json.loads(event['data'])['task_id']\n",
    "                if(activePuzzle not in userPuzzleDict[user].keys()):\n",
    "                    userPuzzleDict[user][activePuzzle] = {'completed':0,'avg_complete_time':0}\n",
    "\n",
    "\n",
    "            # If they are not playing a puzzle we do not do anything and continue\n",
    "            if(activePuzzle is None):\n",
    "                continue\n",
    "\n",
    "            # If it is the first event we store the current event and continue\n",
    "            if(previousEvent is None):\n",
    "                previousEvent = event\n",
    "                continue\n",
    "\n",
    "            # Add new active time\n",
    "            delta_seconds = (event['time'] - previousEvent['time']).total_seconds()\n",
    "            if((delta_seconds < theresHoldActivity)):\n",
    "                activeTime += delta_seconds\n",
    "\n",
    "            # If event is puzzle complete we always add it\n",
    "            if(event['type'] == 'ws-puzzle_complete'):\n",
    "                puzzleName = json.loads(event['data'])['task_id']\n",
    "                if(puzzleName in userPuzzleDict[user].keys()):\n",
    "                    if(userPuzzleDict[user][puzzleName]['completed']==0):\n",
    "                        userPuzzleDict[user][puzzleName]['avg_complete_time'] += round(activeTime/60,2)\n",
    "                        userPuzzleDict[user][puzzleName]['completed'] = 1\n",
    "\n",
    "\n",
    "            # Analyze when puzzle is finished or user left\n",
    "            # Measure time, attempts, completion and actions\n",
    "            if(event['type'] in ['ws-puzzle_complete', 'ws-exit_to_menu', 'ws-disconnect']):\n",
    "                # reset counters\n",
    "                activeTime = 0\n",
    "                activePuzzle = None\n",
    "\n",
    "            previousEvent = event\n",
    "\n",
    "\n",
    "    stats_by_level_player = []\n",
    "    for user in userPuzzleDict.keys():\n",
    "        userDf = pd.DataFrame.from_dict(userPuzzleDict[user], orient = 'index')\n",
    "        userDf['group_user_id'] = user\n",
    "        key_split = user.split('~')\n",
    "        userDf['group'] = key_split[0]\n",
    "        if (userDf.shape != 0):\n",
    "            stats_by_level_player.append(userDf)\n",
    "        else:\n",
    "            continue\n",
    "\n",
    "    try:\n",
    "        stats_by_level_player = pd.concat(stats_by_level_player, sort=True)\n",
    "        stats_by_level_player['puzzle'] = stats_by_level_player.index\n",
    "        stats_by_level_player['order'] = stats_by_level_player['puzzle'].map(orderMapping)\n",
    "\n",
    "        avgTimes = round(stats_by_level_player.groupby(['puzzle','order']).agg({\n",
    "                                                    'avg_complete_time': lambda x: np.mean(x[x!=0]) })\n",
    "                               .reset_index(),2).sort_values('order')\n",
    "\n",
    "        return avgTimes,stats_by_level_player\n",
    "\n",
    "    except ValueError:\n",
    "        return -1"
   ],
   "metadata": {
    "collapsed": false
   }
  },
  {
   "cell_type": "code",
   "execution_count": 4,
   "outputs": [
    {
     "ename": "KeyboardInterrupt",
     "evalue": "",
     "output_type": "error",
     "traceback": [
      "\u001B[1;31m---------------------------------------------------------------------------\u001B[0m",
      "\u001B[1;31mKeyboardInterrupt\u001B[0m                         Traceback (most recent call last)",
      "Cell \u001B[1;32mIn[4], line 1\u001B[0m\n\u001B[1;32m----> 1\u001B[0m pruebas,stats \u001B[38;5;241m=\u001B[39m \u001B[43mcomputeAvgTimes\u001B[49m\u001B[43m(\u001B[49m\u001B[43mdataEvents\u001B[49m\u001B[43m)\u001B[49m\n",
      "Cell \u001B[1;32mIn[3], line 8\u001B[0m, in \u001B[0;36mcomputeAvgTimes\u001B[1;34m(dataEvents)\u001B[0m\n\u001B[0;32m      6\u001B[0m \u001B[38;5;28;01mdef\u001B[39;00m \u001B[38;5;21mcomputeAvgTimes\u001B[39m(dataEvents):\n\u001B[1;32m----> 8\u001B[0m     dataEvents[\u001B[38;5;124m'\u001B[39m\u001B[38;5;124mgroup\u001B[39m\u001B[38;5;124m'\u001B[39m] \u001B[38;5;241m=\u001B[39m [json\u001B[38;5;241m.\u001B[39mloads(x)[\u001B[38;5;124m'\u001B[39m\u001B[38;5;124mgroup\u001B[39m\u001B[38;5;124m'\u001B[39m] \u001B[38;5;28;01mif\u001B[39;00m \u001B[38;5;124m'\u001B[39m\u001B[38;5;124mgroup\u001B[39m\u001B[38;5;124m'\u001B[39m \u001B[38;5;129;01min\u001B[39;00m json\u001B[38;5;241m.\u001B[39mloads(x)\u001B[38;5;241m.\u001B[39mkeys() \u001B[38;5;28;01melse\u001B[39;00m \u001B[38;5;124m'\u001B[39m\u001B[38;5;124m'\u001B[39m \u001B[38;5;28;01mfor\u001B[39;00m x \u001B[38;5;129;01min\u001B[39;00m dataEvents[\u001B[38;5;124m'\u001B[39m\u001B[38;5;124mdata\u001B[39m\u001B[38;5;124m'\u001B[39m]]\n\u001B[0;32m      9\u001B[0m     dataEvents[\u001B[38;5;124m'\u001B[39m\u001B[38;5;124muser\u001B[39m\u001B[38;5;124m'\u001B[39m] \u001B[38;5;241m=\u001B[39m [json\u001B[38;5;241m.\u001B[39mloads(x)[\u001B[38;5;124m'\u001B[39m\u001B[38;5;124muser\u001B[39m\u001B[38;5;124m'\u001B[39m] \u001B[38;5;28;01mif\u001B[39;00m \u001B[38;5;124m'\u001B[39m\u001B[38;5;124muser\u001B[39m\u001B[38;5;124m'\u001B[39m \u001B[38;5;129;01min\u001B[39;00m json\u001B[38;5;241m.\u001B[39mloads(x)\u001B[38;5;241m.\u001B[39mkeys() \u001B[38;5;28;01melse\u001B[39;00m \u001B[38;5;124m'\u001B[39m\u001B[38;5;124m'\u001B[39m \u001B[38;5;28;01mfor\u001B[39;00m x \u001B[38;5;129;01min\u001B[39;00m dataEvents[\u001B[38;5;124m'\u001B[39m\u001B[38;5;124mdata\u001B[39m\u001B[38;5;124m'\u001B[39m]]\n\u001B[0;32m     11\u001B[0m     \u001B[38;5;66;03m# removing those rows where we dont have a group and a user that is not guest\u001B[39;00m\n",
      "Cell \u001B[1;32mIn[3], line 8\u001B[0m, in \u001B[0;36m<listcomp>\u001B[1;34m(.0)\u001B[0m\n\u001B[0;32m      6\u001B[0m \u001B[38;5;28;01mdef\u001B[39;00m \u001B[38;5;21mcomputeAvgTimes\u001B[39m(dataEvents):\n\u001B[1;32m----> 8\u001B[0m     dataEvents[\u001B[38;5;124m'\u001B[39m\u001B[38;5;124mgroup\u001B[39m\u001B[38;5;124m'\u001B[39m] \u001B[38;5;241m=\u001B[39m [\u001B[43mjson\u001B[49m\u001B[38;5;241;43m.\u001B[39;49m\u001B[43mloads\u001B[49m\u001B[43m(\u001B[49m\u001B[43mx\u001B[49m\u001B[43m)\u001B[49m\u001B[43m[\u001B[49m\u001B[38;5;124;43m'\u001B[39;49m\u001B[38;5;124;43mgroup\u001B[39;49m\u001B[38;5;124;43m'\u001B[39;49m\u001B[43m]\u001B[49m \u001B[38;5;28;01mif\u001B[39;00m \u001B[38;5;124m'\u001B[39m\u001B[38;5;124mgroup\u001B[39m\u001B[38;5;124m'\u001B[39m \u001B[38;5;129;01min\u001B[39;00m json\u001B[38;5;241m.\u001B[39mloads(x)\u001B[38;5;241m.\u001B[39mkeys() \u001B[38;5;28;01melse\u001B[39;00m \u001B[38;5;124m'\u001B[39m\u001B[38;5;124m'\u001B[39m \u001B[38;5;28;01mfor\u001B[39;00m x \u001B[38;5;129;01min\u001B[39;00m dataEvents[\u001B[38;5;124m'\u001B[39m\u001B[38;5;124mdata\u001B[39m\u001B[38;5;124m'\u001B[39m]]\n\u001B[0;32m      9\u001B[0m     dataEvents[\u001B[38;5;124m'\u001B[39m\u001B[38;5;124muser\u001B[39m\u001B[38;5;124m'\u001B[39m] \u001B[38;5;241m=\u001B[39m [json\u001B[38;5;241m.\u001B[39mloads(x)[\u001B[38;5;124m'\u001B[39m\u001B[38;5;124muser\u001B[39m\u001B[38;5;124m'\u001B[39m] \u001B[38;5;28;01mif\u001B[39;00m \u001B[38;5;124m'\u001B[39m\u001B[38;5;124muser\u001B[39m\u001B[38;5;124m'\u001B[39m \u001B[38;5;129;01min\u001B[39;00m json\u001B[38;5;241m.\u001B[39mloads(x)\u001B[38;5;241m.\u001B[39mkeys() \u001B[38;5;28;01melse\u001B[39;00m \u001B[38;5;124m'\u001B[39m\u001B[38;5;124m'\u001B[39m \u001B[38;5;28;01mfor\u001B[39;00m x \u001B[38;5;129;01min\u001B[39;00m dataEvents[\u001B[38;5;124m'\u001B[39m\u001B[38;5;124mdata\u001B[39m\u001B[38;5;124m'\u001B[39m]]\n\u001B[0;32m     11\u001B[0m     \u001B[38;5;66;03m# removing those rows where we dont have a group and a user that is not guest\u001B[39;00m\n",
      "\u001B[1;31mKeyboardInterrupt\u001B[0m: "
     ]
    }
   ],
   "source": [
    "pruebas,stats = computeAvgTimes(dataEvents)"
   ],
   "metadata": {
    "collapsed": false
   }
  },
  {
   "cell_type": "code",
   "execution_count": null,
   "outputs": [],
   "source": [
    "pruebas.to_csv(\"../../Outputs/avgTimeByPuzzleOutput.csv\", decimal = \".\", sep =\";\", mode='w')"
   ],
   "metadata": {
    "collapsed": false
   }
  },
  {
   "cell_type": "code",
   "execution_count": null,
   "outputs": [],
   "source": [
    "stats"
   ],
   "metadata": {
    "collapsed": false
   }
  }
 ],
 "metadata": {
  "kernelspec": {
   "display_name": "Python 3",
   "language": "python",
   "name": "python3"
  },
  "language_info": {
   "codemirror_mode": {
    "name": "ipython",
    "version": 2
   },
   "file_extension": ".py",
   "mimetype": "text/x-python",
   "name": "python",
   "nbconvert_exporter": "python",
   "pygments_lexer": "ipython2",
   "version": "2.7.6"
  }
 },
 "nbformat": 4,
 "nbformat_minor": 0
}
